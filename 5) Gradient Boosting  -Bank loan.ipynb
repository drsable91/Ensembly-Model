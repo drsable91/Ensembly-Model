{
 "cells": [
  {
   "cell_type": "markdown",
   "id": "d88c8b61",
   "metadata": {},
   "source": [
    "# Library Installing "
   ]
  },
  {
   "cell_type": "code",
   "execution_count": 3,
   "id": "884a020b",
   "metadata": {},
   "outputs": [],
   "source": [
    "####################  Data Analysis & Calculation  #####################3\n",
    "import numpy as np   \n",
    "import pandas as pd  \n",
    "import datetime  \n",
    "\n",
    "####################  Visuvalization & plotting  #####################3\n",
    "import matplotlib.pyplot as plt \n",
    "import seaborn as sns\n",
    "%matplotlib inline  \n",
    "#################### Machine Learning #####################3\n",
    "from sklearn.ensemble import AdaBoostClassifier  \n",
    "from sklearn.ensemble import GradientBoostingClassifier  \n",
    "from sklearn.model_selection import train_test_split, cross_val_score, GridSearchCV\n",
    "from sklearn.metrics import confusion_matrix, classification_report\n",
    "import warnings  \n",
    "warnings.filterwarnings(\"ignore\")\n",
    "from sklearn.preprocessing import LabelEncoder "
   ]
  },
  {
   "cell_type": "markdown",
   "id": "c80fb71d",
   "metadata": {},
   "source": [
    "# 1) Import Dataset "
   ]
  },
  {
   "cell_type": "code",
   "execution_count": 32,
   "id": "0cee3343",
   "metadata": {
    "scrolled": false
   },
   "outputs": [
    {
     "data": {
      "text/html": [
       "<div>\n",
       "<style scoped>\n",
       "    .dataframe tbody tr th:only-of-type {\n",
       "        vertical-align: middle;\n",
       "    }\n",
       "\n",
       "    .dataframe tbody tr th {\n",
       "        vertical-align: top;\n",
       "    }\n",
       "\n",
       "    .dataframe thead th {\n",
       "        text-align: right;\n",
       "    }\n",
       "</style>\n",
       "<table border=\"1\" class=\"dataframe\">\n",
       "  <thead>\n",
       "    <tr style=\"text-align: right;\">\n",
       "      <th></th>\n",
       "      <th>Loan_ID</th>\n",
       "      <th>Age</th>\n",
       "      <th>Gender</th>\n",
       "      <th>Married</th>\n",
       "      <th>Dependents</th>\n",
       "      <th>Education</th>\n",
       "      <th>Self_Employed</th>\n",
       "      <th>ApplicantIncome</th>\n",
       "      <th>LoanAmount</th>\n",
       "      <th>Previous_Loan_Taken</th>\n",
       "      <th>Cibil_Score</th>\n",
       "      <th>Property_Area</th>\n",
       "      <th>Customer_Bandwith</th>\n",
       "      <th>Tenure</th>\n",
       "      <th>Loan_Status</th>\n",
       "    </tr>\n",
       "  </thead>\n",
       "  <tbody>\n",
       "    <tr>\n",
       "      <th>0</th>\n",
       "      <td>LP001002</td>\n",
       "      <td>43</td>\n",
       "      <td>Male</td>\n",
       "      <td>No</td>\n",
       "      <td>3</td>\n",
       "      <td>Graduate</td>\n",
       "      <td>No</td>\n",
       "      <td>54005</td>\n",
       "      <td>334113</td>\n",
       "      <td>Yes</td>\n",
       "      <td>668</td>\n",
       "      <td>Urban</td>\n",
       "      <td>Good</td>\n",
       "      <td>43</td>\n",
       "      <td>No</td>\n",
       "    </tr>\n",
       "    <tr>\n",
       "      <th>1</th>\n",
       "      <td>LP001003</td>\n",
       "      <td>57</td>\n",
       "      <td>Male</td>\n",
       "      <td>Yes</td>\n",
       "      <td>2</td>\n",
       "      <td>Graduate</td>\n",
       "      <td>No</td>\n",
       "      <td>28817</td>\n",
       "      <td>736026</td>\n",
       "      <td>Yes</td>\n",
       "      <td>684</td>\n",
       "      <td>Rural</td>\n",
       "      <td>Good</td>\n",
       "      <td>13</td>\n",
       "      <td>Yes</td>\n",
       "    </tr>\n",
       "    <tr>\n",
       "      <th>2</th>\n",
       "      <td>LP001005</td>\n",
       "      <td>25</td>\n",
       "      <td>Male</td>\n",
       "      <td>Yes</td>\n",
       "      <td>3</td>\n",
       "      <td>Graduate</td>\n",
       "      <td>Yes</td>\n",
       "      <td>99939</td>\n",
       "      <td>712432</td>\n",
       "      <td>Yes</td>\n",
       "      <td>788</td>\n",
       "      <td>Urban</td>\n",
       "      <td>Good</td>\n",
       "      <td>10</td>\n",
       "      <td>No</td>\n",
       "    </tr>\n",
       "    <tr>\n",
       "      <th>3</th>\n",
       "      <td>LP001006</td>\n",
       "      <td>44</td>\n",
       "      <td>Male</td>\n",
       "      <td>Yes</td>\n",
       "      <td>1</td>\n",
       "      <td>Not Graduate</td>\n",
       "      <td>No</td>\n",
       "      <td>38470</td>\n",
       "      <td>267161</td>\n",
       "      <td>Yes</td>\n",
       "      <td>888</td>\n",
       "      <td>Urban</td>\n",
       "      <td>Good</td>\n",
       "      <td>9</td>\n",
       "      <td>No</td>\n",
       "    </tr>\n",
       "    <tr>\n",
       "      <th>4</th>\n",
       "      <td>LP001008</td>\n",
       "      <td>58</td>\n",
       "      <td>Male</td>\n",
       "      <td>No</td>\n",
       "      <td>1</td>\n",
       "      <td>Graduate</td>\n",
       "      <td>No</td>\n",
       "      <td>28991</td>\n",
       "      <td>402474</td>\n",
       "      <td>Yes</td>\n",
       "      <td>703</td>\n",
       "      <td>Urban</td>\n",
       "      <td>Good</td>\n",
       "      <td>11</td>\n",
       "      <td>No</td>\n",
       "    </tr>\n",
       "    <tr>\n",
       "      <th>...</th>\n",
       "      <td>...</td>\n",
       "      <td>...</td>\n",
       "      <td>...</td>\n",
       "      <td>...</td>\n",
       "      <td>...</td>\n",
       "      <td>...</td>\n",
       "      <td>...</td>\n",
       "      <td>...</td>\n",
       "      <td>...</td>\n",
       "      <td>...</td>\n",
       "      <td>...</td>\n",
       "      <td>...</td>\n",
       "      <td>...</td>\n",
       "      <td>...</td>\n",
       "      <td>...</td>\n",
       "    </tr>\n",
       "    <tr>\n",
       "      <th>976</th>\n",
       "      <td>LP002971</td>\n",
       "      <td>28</td>\n",
       "      <td>Male</td>\n",
       "      <td>Yes</td>\n",
       "      <td>0</td>\n",
       "      <td>Not Graduate</td>\n",
       "      <td>Yes</td>\n",
       "      <td>91473</td>\n",
       "      <td>643710</td>\n",
       "      <td>Yes</td>\n",
       "      <td>631</td>\n",
       "      <td>Urban</td>\n",
       "      <td>Medium</td>\n",
       "      <td>36</td>\n",
       "      <td>No</td>\n",
       "    </tr>\n",
       "    <tr>\n",
       "      <th>977</th>\n",
       "      <td>LP002975</td>\n",
       "      <td>46</td>\n",
       "      <td>Male</td>\n",
       "      <td>Yes</td>\n",
       "      <td>2</td>\n",
       "      <td>Graduate</td>\n",
       "      <td>No</td>\n",
       "      <td>82832</td>\n",
       "      <td>191806</td>\n",
       "      <td>Yes</td>\n",
       "      <td>697</td>\n",
       "      <td>Urban</td>\n",
       "      <td>Good</td>\n",
       "      <td>16</td>\n",
       "      <td>No</td>\n",
       "    </tr>\n",
       "    <tr>\n",
       "      <th>978</th>\n",
       "      <td>LP002980</td>\n",
       "      <td>40</td>\n",
       "      <td>Male</td>\n",
       "      <td>No</td>\n",
       "      <td>0</td>\n",
       "      <td>Graduate</td>\n",
       "      <td>No</td>\n",
       "      <td>40912</td>\n",
       "      <td>160512</td>\n",
       "      <td>Yes</td>\n",
       "      <td>790</td>\n",
       "      <td>Semiurban</td>\n",
       "      <td>Good</td>\n",
       "      <td>5</td>\n",
       "      <td>No</td>\n",
       "    </tr>\n",
       "    <tr>\n",
       "      <th>979</th>\n",
       "      <td>LP002986</td>\n",
       "      <td>31</td>\n",
       "      <td>Male</td>\n",
       "      <td>Yes</td>\n",
       "      <td>4</td>\n",
       "      <td>Graduate</td>\n",
       "      <td>No</td>\n",
       "      <td>77945</td>\n",
       "      <td>817294</td>\n",
       "      <td>Yes</td>\n",
       "      <td>889</td>\n",
       "      <td>Rural</td>\n",
       "      <td>Good</td>\n",
       "      <td>28</td>\n",
       "      <td>Yes</td>\n",
       "    </tr>\n",
       "    <tr>\n",
       "      <th>980</th>\n",
       "      <td>LP002989</td>\n",
       "      <td>24</td>\n",
       "      <td>Male</td>\n",
       "      <td>No</td>\n",
       "      <td>2</td>\n",
       "      <td>Graduate</td>\n",
       "      <td>Yes</td>\n",
       "      <td>25808</td>\n",
       "      <td>789453</td>\n",
       "      <td>Yes</td>\n",
       "      <td>821</td>\n",
       "      <td>Rural</td>\n",
       "      <td>Good</td>\n",
       "      <td>15</td>\n",
       "      <td>No</td>\n",
       "    </tr>\n",
       "  </tbody>\n",
       "</table>\n",
       "<p>981 rows × 15 columns</p>\n",
       "</div>"
      ],
      "text/plain": [
       "      Loan_ID  Age Gender Married  Dependents     Education Self_Employed  \\\n",
       "0    LP001002   43   Male      No           3      Graduate            No   \n",
       "1    LP001003   57   Male     Yes           2      Graduate            No   \n",
       "2    LP001005   25   Male     Yes           3      Graduate           Yes   \n",
       "3    LP001006   44   Male     Yes           1  Not Graduate            No   \n",
       "4    LP001008   58   Male      No           1      Graduate            No   \n",
       "..        ...  ...    ...     ...         ...           ...           ...   \n",
       "976  LP002971   28   Male     Yes           0  Not Graduate           Yes   \n",
       "977  LP002975   46   Male     Yes           2      Graduate            No   \n",
       "978  LP002980   40   Male      No           0      Graduate            No   \n",
       "979  LP002986   31   Male     Yes           4      Graduate            No   \n",
       "980  LP002989   24   Male      No           2      Graduate           Yes   \n",
       "\n",
       "     ApplicantIncome  LoanAmount Previous_Loan_Taken  Cibil_Score  \\\n",
       "0              54005      334113                 Yes          668   \n",
       "1              28817      736026                 Yes          684   \n",
       "2              99939      712432                 Yes          788   \n",
       "3              38470      267161                 Yes          888   \n",
       "4              28991      402474                 Yes          703   \n",
       "..               ...         ...                 ...          ...   \n",
       "976            91473      643710                 Yes          631   \n",
       "977            82832      191806                 Yes          697   \n",
       "978            40912      160512                 Yes          790   \n",
       "979            77945      817294                 Yes          889   \n",
       "980            25808      789453                 Yes          821   \n",
       "\n",
       "    Property_Area Customer_Bandwith  Tenure Loan_Status  \n",
       "0           Urban              Good      43          No  \n",
       "1           Rural              Good      13         Yes  \n",
       "2           Urban              Good      10          No  \n",
       "3           Urban              Good       9          No  \n",
       "4           Urban              Good      11          No  \n",
       "..            ...               ...     ...         ...  \n",
       "976         Urban            Medium      36          No  \n",
       "977         Urban              Good      16          No  \n",
       "978     Semiurban              Good       5          No  \n",
       "979         Rural              Good      28         Yes  \n",
       "980         Rural              Good      15          No  \n",
       "\n",
       "[981 rows x 15 columns]"
      ]
     },
     "execution_count": 32,
     "metadata": {},
     "output_type": "execute_result"
    }
   ],
   "source": [
    "Bank = pd.read_csv(r\"C:\\Users\\Digambar\\OneDrive\\Desktop\\Imarticus Learing\\Machine Learning\\Supervised Machie Learning\\Ensemble Model\\Bank_Loan.csv\")\n",
    "Bank"
   ]
  },
  {
   "cell_type": "markdown",
   "id": "f51b0eb4",
   "metadata": {},
   "source": [
    "### Checking Rows and Columns "
   ]
  },
  {
   "cell_type": "code",
   "execution_count": 33,
   "id": "774a1770",
   "metadata": {},
   "outputs": [
    {
     "name": "stdout",
     "output_type": "stream",
     "text": [
      "Rows     :  981\n",
      "Columns  :  15\n"
     ]
    }
   ],
   "source": [
    "print (\"Rows     : \" ,Bank.shape[0])\n",
    "print (\"Columns  : \" ,Bank.shape[1])\n"
   ]
  },
  {
   "cell_type": "code",
   "execution_count": 34,
   "id": "27aba780",
   "metadata": {
    "scrolled": false
   },
   "outputs": [
    {
     "name": "stdout",
     "output_type": "stream",
     "text": [
      "<class 'pandas.core.frame.DataFrame'>\n",
      "RangeIndex: 981 entries, 0 to 980\n",
      "Data columns (total 15 columns):\n",
      " #   Column               Non-Null Count  Dtype \n",
      "---  ------               --------------  ----- \n",
      " 0   Loan_ID              981 non-null    object\n",
      " 1   Age                  981 non-null    int64 \n",
      " 2   Gender               981 non-null    object\n",
      " 3   Married              981 non-null    object\n",
      " 4   Dependents           981 non-null    int64 \n",
      " 5   Education            981 non-null    object\n",
      " 6   Self_Employed        981 non-null    object\n",
      " 7   ApplicantIncome      981 non-null    int64 \n",
      " 8   LoanAmount           981 non-null    int64 \n",
      " 9   Previous_Loan_Taken  981 non-null    object\n",
      " 10  Cibil_Score          981 non-null    int64 \n",
      " 11  Property_Area        981 non-null    object\n",
      " 12  Customer_Bandwith    981 non-null    object\n",
      " 13  Tenure               981 non-null    int64 \n",
      " 14  Loan_Status          981 non-null    object\n",
      "dtypes: int64(6), object(9)\n",
      "memory usage: 115.1+ KB\n"
     ]
    }
   ],
   "source": [
    "Bank.info()  #to chekck informtion"
   ]
  },
  {
   "cell_type": "markdown",
   "id": "025e05d5",
   "metadata": {},
   "source": [
    "### Missing Value "
   ]
  },
  {
   "cell_type": "code",
   "execution_count": 35,
   "id": "a7371b67",
   "metadata": {
    "scrolled": true
   },
   "outputs": [
    {
     "data": {
      "text/plain": [
       "Loan_ID                0\n",
       "Age                    0\n",
       "Gender                 0\n",
       "Married                0\n",
       "Dependents             0\n",
       "Education              0\n",
       "Self_Employed          0\n",
       "ApplicantIncome        0\n",
       "LoanAmount             0\n",
       "Previous_Loan_Taken    0\n",
       "Cibil_Score            0\n",
       "Property_Area          0\n",
       "Customer_Bandwith      0\n",
       "Tenure                 0\n",
       "Loan_Status            0\n",
       "dtype: int64"
      ]
     },
     "execution_count": 35,
     "metadata": {},
     "output_type": "execute_result"
    }
   ],
   "source": [
    "Bank.isnull().sum()"
   ]
  },
  {
   "cell_type": "markdown",
   "id": "3385ee23",
   "metadata": {},
   "source": [
    "### Removeing Irrelvent Element "
   ]
  },
  {
   "cell_type": "code",
   "execution_count": 37,
   "id": "9920f374",
   "metadata": {},
   "outputs": [
    {
     "data": {
      "text/plain": [
       "Index(['Age', 'Gender', 'Married', 'Dependents', 'Education', 'Self_Employed',\n",
       "       'ApplicantIncome', 'LoanAmount', 'Previous_Loan_Taken', 'Cibil_Score',\n",
       "       'Property_Area', 'Customer_Bandwith', 'Tenure', 'Loan_Status'],\n",
       "      dtype='object')"
      ]
     },
     "execution_count": 37,
     "metadata": {},
     "output_type": "execute_result"
    }
   ],
   "source": [
    "Bank = Bank.drop(['Loan_ID'],axis=1)\n",
    "Bank.columns"
   ]
  },
  {
   "cell_type": "code",
   "execution_count": 39,
   "id": "338b59d6",
   "metadata": {},
   "outputs": [
    {
     "data": {
      "text/html": [
       "<div>\n",
       "<style scoped>\n",
       "    .dataframe tbody tr th:only-of-type {\n",
       "        vertical-align: middle;\n",
       "    }\n",
       "\n",
       "    .dataframe tbody tr th {\n",
       "        vertical-align: top;\n",
       "    }\n",
       "\n",
       "    .dataframe thead th {\n",
       "        text-align: right;\n",
       "    }\n",
       "</style>\n",
       "<table border=\"1\" class=\"dataframe\">\n",
       "  <thead>\n",
       "    <tr style=\"text-align: right;\">\n",
       "      <th></th>\n",
       "      <th>Age</th>\n",
       "      <th>Dependents</th>\n",
       "      <th>ApplicantIncome</th>\n",
       "      <th>LoanAmount</th>\n",
       "      <th>Cibil_Score</th>\n",
       "      <th>Tenure</th>\n",
       "    </tr>\n",
       "  </thead>\n",
       "  <tbody>\n",
       "    <tr>\n",
       "      <th>0</th>\n",
       "      <td>43</td>\n",
       "      <td>3</td>\n",
       "      <td>54005</td>\n",
       "      <td>334113</td>\n",
       "      <td>668</td>\n",
       "      <td>43</td>\n",
       "    </tr>\n",
       "    <tr>\n",
       "      <th>1</th>\n",
       "      <td>57</td>\n",
       "      <td>2</td>\n",
       "      <td>28817</td>\n",
       "      <td>736026</td>\n",
       "      <td>684</td>\n",
       "      <td>13</td>\n",
       "    </tr>\n",
       "    <tr>\n",
       "      <th>2</th>\n",
       "      <td>25</td>\n",
       "      <td>3</td>\n",
       "      <td>99939</td>\n",
       "      <td>712432</td>\n",
       "      <td>788</td>\n",
       "      <td>10</td>\n",
       "    </tr>\n",
       "  </tbody>\n",
       "</table>\n",
       "</div>"
      ],
      "text/plain": [
       "   Age  Dependents  ApplicantIncome  LoanAmount  Cibil_Score  Tenure\n",
       "0   43           3            54005      334113          668      43\n",
       "1   57           2            28817      736026          684      13\n",
       "2   25           3            99939      712432          788      10"
      ]
     },
     "execution_count": 39,
     "metadata": {},
     "output_type": "execute_result"
    }
   ],
   "source": [
    "# #Employee Numeric columns\n",
    "Bank_num = Bank[Bank.select_dtypes(include=[np.number]).columns.tolist()]\n",
    "Bank_num.head(3)"
   ]
  },
  {
   "cell_type": "code",
   "execution_count": 40,
   "id": "3510973a",
   "metadata": {},
   "outputs": [
    {
     "data": {
      "text/html": [
       "<div>\n",
       "<style scoped>\n",
       "    .dataframe tbody tr th:only-of-type {\n",
       "        vertical-align: middle;\n",
       "    }\n",
       "\n",
       "    .dataframe tbody tr th {\n",
       "        vertical-align: top;\n",
       "    }\n",
       "\n",
       "    .dataframe thead th {\n",
       "        text-align: right;\n",
       "    }\n",
       "</style>\n",
       "<table border=\"1\" class=\"dataframe\">\n",
       "  <thead>\n",
       "    <tr style=\"text-align: right;\">\n",
       "      <th></th>\n",
       "      <th>Gender</th>\n",
       "      <th>Married</th>\n",
       "      <th>Education</th>\n",
       "      <th>Self_Employed</th>\n",
       "      <th>Previous_Loan_Taken</th>\n",
       "      <th>Property_Area</th>\n",
       "      <th>Customer_Bandwith</th>\n",
       "      <th>Loan_Status</th>\n",
       "    </tr>\n",
       "  </thead>\n",
       "  <tbody>\n",
       "    <tr>\n",
       "      <th>0</th>\n",
       "      <td>Male</td>\n",
       "      <td>No</td>\n",
       "      <td>Graduate</td>\n",
       "      <td>No</td>\n",
       "      <td>Yes</td>\n",
       "      <td>Urban</td>\n",
       "      <td>Good</td>\n",
       "      <td>No</td>\n",
       "    </tr>\n",
       "    <tr>\n",
       "      <th>1</th>\n",
       "      <td>Male</td>\n",
       "      <td>Yes</td>\n",
       "      <td>Graduate</td>\n",
       "      <td>No</td>\n",
       "      <td>Yes</td>\n",
       "      <td>Rural</td>\n",
       "      <td>Good</td>\n",
       "      <td>Yes</td>\n",
       "    </tr>\n",
       "    <tr>\n",
       "      <th>2</th>\n",
       "      <td>Male</td>\n",
       "      <td>Yes</td>\n",
       "      <td>Graduate</td>\n",
       "      <td>Yes</td>\n",
       "      <td>Yes</td>\n",
       "      <td>Urban</td>\n",
       "      <td>Good</td>\n",
       "      <td>No</td>\n",
       "    </tr>\n",
       "  </tbody>\n",
       "</table>\n",
       "</div>"
      ],
      "text/plain": [
       "  Gender Married Education Self_Employed Previous_Loan_Taken Property_Area  \\\n",
       "0   Male      No  Graduate            No                 Yes         Urban   \n",
       "1   Male     Yes  Graduate            No                 Yes         Rural   \n",
       "2   Male     Yes  Graduate           Yes                 Yes         Urban   \n",
       "\n",
       "  Customer_Bandwith Loan_Status  \n",
       "0              Good          No  \n",
       "1              Good         Yes  \n",
       "2              Good          No  "
      ]
     },
     "execution_count": 40,
     "metadata": {},
     "output_type": "execute_result"
    }
   ],
   "source": [
    "Bank_dummies = Bank[Bank.select_dtypes(include=['object']).columns.tolist()]\n",
    "Bank_dummies.head(3)"
   ]
  },
  {
   "cell_type": "code",
   "execution_count": 41,
   "id": "fd33fc23",
   "metadata": {},
   "outputs": [
    {
     "data": {
      "text/html": [
       "<div>\n",
       "<style scoped>\n",
       "    .dataframe tbody tr th:only-of-type {\n",
       "        vertical-align: middle;\n",
       "    }\n",
       "\n",
       "    .dataframe tbody tr th {\n",
       "        vertical-align: top;\n",
       "    }\n",
       "\n",
       "    .dataframe thead th {\n",
       "        text-align: right;\n",
       "    }\n",
       "</style>\n",
       "<table border=\"1\" class=\"dataframe\">\n",
       "  <thead>\n",
       "    <tr style=\"text-align: right;\">\n",
       "      <th></th>\n",
       "      <th>Gender</th>\n",
       "      <th>Married</th>\n",
       "      <th>Education</th>\n",
       "      <th>Self_Employed</th>\n",
       "      <th>Previous_Loan_Taken</th>\n",
       "      <th>Property_Area</th>\n",
       "      <th>Customer_Bandwith</th>\n",
       "      <th>Loan_Status</th>\n",
       "    </tr>\n",
       "  </thead>\n",
       "  <tbody>\n",
       "    <tr>\n",
       "      <th>0</th>\n",
       "      <td>1</td>\n",
       "      <td>0</td>\n",
       "      <td>0</td>\n",
       "      <td>0</td>\n",
       "      <td>1</td>\n",
       "      <td>2</td>\n",
       "      <td>1</td>\n",
       "      <td>0</td>\n",
       "    </tr>\n",
       "    <tr>\n",
       "      <th>1</th>\n",
       "      <td>1</td>\n",
       "      <td>1</td>\n",
       "      <td>0</td>\n",
       "      <td>0</td>\n",
       "      <td>1</td>\n",
       "      <td>0</td>\n",
       "      <td>1</td>\n",
       "      <td>1</td>\n",
       "    </tr>\n",
       "    <tr>\n",
       "      <th>2</th>\n",
       "      <td>1</td>\n",
       "      <td>1</td>\n",
       "      <td>0</td>\n",
       "      <td>1</td>\n",
       "      <td>1</td>\n",
       "      <td>2</td>\n",
       "      <td>1</td>\n",
       "      <td>0</td>\n",
       "    </tr>\n",
       "  </tbody>\n",
       "</table>\n",
       "</div>"
      ],
      "text/plain": [
       "   Gender  Married  Education  Self_Employed  Previous_Loan_Taken  \\\n",
       "0       1        0          0              0                    1   \n",
       "1       1        1          0              0                    1   \n",
       "2       1        1          0              1                    1   \n",
       "\n",
       "   Property_Area  Customer_Bandwith  Loan_Status  \n",
       "0              2                  1            0  \n",
       "1              0                  1            1  \n",
       "2              2                  1            0  "
      ]
     },
     "execution_count": 41,
     "metadata": {},
     "output_type": "execute_result"
    }
   ],
   "source": [
    "from sklearn.preprocessing import LabelEncoder\n",
    "Bank_dummies=Bank_dummies.apply(LabelEncoder().fit_transform)\n",
    "Bank_dummies.head(3)\n",
    "# label in ascending order"
   ]
  },
  {
   "cell_type": "code",
   "execution_count": 42,
   "id": "f303f163",
   "metadata": {},
   "outputs": [
    {
     "data": {
      "text/html": [
       "<div>\n",
       "<style scoped>\n",
       "    .dataframe tbody tr th:only-of-type {\n",
       "        vertical-align: middle;\n",
       "    }\n",
       "\n",
       "    .dataframe tbody tr th {\n",
       "        vertical-align: top;\n",
       "    }\n",
       "\n",
       "    .dataframe thead th {\n",
       "        text-align: right;\n",
       "    }\n",
       "</style>\n",
       "<table border=\"1\" class=\"dataframe\">\n",
       "  <thead>\n",
       "    <tr style=\"text-align: right;\">\n",
       "      <th></th>\n",
       "      <th>Age</th>\n",
       "      <th>Dependents</th>\n",
       "      <th>ApplicantIncome</th>\n",
       "      <th>LoanAmount</th>\n",
       "      <th>Cibil_Score</th>\n",
       "      <th>Tenure</th>\n",
       "      <th>Gender</th>\n",
       "      <th>Married</th>\n",
       "      <th>Education</th>\n",
       "      <th>Self_Employed</th>\n",
       "      <th>Previous_Loan_Taken</th>\n",
       "      <th>Property_Area</th>\n",
       "      <th>Customer_Bandwith</th>\n",
       "      <th>Loan_Status</th>\n",
       "    </tr>\n",
       "  </thead>\n",
       "  <tbody>\n",
       "    <tr>\n",
       "      <th>0</th>\n",
       "      <td>43</td>\n",
       "      <td>3</td>\n",
       "      <td>54005</td>\n",
       "      <td>334113</td>\n",
       "      <td>668</td>\n",
       "      <td>43</td>\n",
       "      <td>1</td>\n",
       "      <td>0</td>\n",
       "      <td>0</td>\n",
       "      <td>0</td>\n",
       "      <td>1</td>\n",
       "      <td>2</td>\n",
       "      <td>1</td>\n",
       "      <td>0</td>\n",
       "    </tr>\n",
       "    <tr>\n",
       "      <th>1</th>\n",
       "      <td>57</td>\n",
       "      <td>2</td>\n",
       "      <td>28817</td>\n",
       "      <td>736026</td>\n",
       "      <td>684</td>\n",
       "      <td>13</td>\n",
       "      <td>1</td>\n",
       "      <td>1</td>\n",
       "      <td>0</td>\n",
       "      <td>0</td>\n",
       "      <td>1</td>\n",
       "      <td>0</td>\n",
       "      <td>1</td>\n",
       "      <td>1</td>\n",
       "    </tr>\n",
       "    <tr>\n",
       "      <th>2</th>\n",
       "      <td>25</td>\n",
       "      <td>3</td>\n",
       "      <td>99939</td>\n",
       "      <td>712432</td>\n",
       "      <td>788</td>\n",
       "      <td>10</td>\n",
       "      <td>1</td>\n",
       "      <td>1</td>\n",
       "      <td>0</td>\n",
       "      <td>1</td>\n",
       "      <td>1</td>\n",
       "      <td>2</td>\n",
       "      <td>1</td>\n",
       "      <td>0</td>\n",
       "    </tr>\n",
       "    <tr>\n",
       "      <th>3</th>\n",
       "      <td>44</td>\n",
       "      <td>1</td>\n",
       "      <td>38470</td>\n",
       "      <td>267161</td>\n",
       "      <td>888</td>\n",
       "      <td>9</td>\n",
       "      <td>1</td>\n",
       "      <td>1</td>\n",
       "      <td>1</td>\n",
       "      <td>0</td>\n",
       "      <td>1</td>\n",
       "      <td>2</td>\n",
       "      <td>1</td>\n",
       "      <td>0</td>\n",
       "    </tr>\n",
       "    <tr>\n",
       "      <th>4</th>\n",
       "      <td>58</td>\n",
       "      <td>1</td>\n",
       "      <td>28991</td>\n",
       "      <td>402474</td>\n",
       "      <td>703</td>\n",
       "      <td>11</td>\n",
       "      <td>1</td>\n",
       "      <td>0</td>\n",
       "      <td>0</td>\n",
       "      <td>0</td>\n",
       "      <td>1</td>\n",
       "      <td>2</td>\n",
       "      <td>1</td>\n",
       "      <td>0</td>\n",
       "    </tr>\n",
       "  </tbody>\n",
       "</table>\n",
       "</div>"
      ],
      "text/plain": [
       "   Age  Dependents  ApplicantIncome  LoanAmount  Cibil_Score  Tenure  Gender  \\\n",
       "0   43           3            54005      334113          668      43       1   \n",
       "1   57           2            28817      736026          684      13       1   \n",
       "2   25           3            99939      712432          788      10       1   \n",
       "3   44           1            38470      267161          888       9       1   \n",
       "4   58           1            28991      402474          703      11       1   \n",
       "\n",
       "   Married  Education  Self_Employed  Previous_Loan_Taken  Property_Area  \\\n",
       "0        0          0              0                    1              2   \n",
       "1        1          0              0                    1              0   \n",
       "2        1          0              1                    1              2   \n",
       "3        1          1              0                    1              2   \n",
       "4        0          0              0                    1              2   \n",
       "\n",
       "   Customer_Bandwith  Loan_Status  \n",
       "0                  1            0  \n",
       "1                  1            1  \n",
       "2                  1            0  \n",
       "3                  1            0  \n",
       "4                  1            0  "
      ]
     },
     "execution_count": 42,
     "metadata": {},
     "output_type": "execute_result"
    }
   ],
   "source": [
    "Bank_combined = pd.concat([Bank_num, Bank_dummies],axis=1)\n",
    "Bank_combined.head()"
   ]
  },
  {
   "cell_type": "markdown",
   "id": "b3f46368",
   "metadata": {},
   "source": [
    "# 2) Data Partition "
   ]
  },
  {
   "cell_type": "markdown",
   "id": "5face4a4",
   "metadata": {},
   "source": [
    "#Dividing data into train and test dataset\n",
    "from sklearn.model_selection import train_test_split\n",
    "#from random import seed\n",
    "\n",
    "#seed(20)\n",
    "X = Bank_combined.drop('Loan_Status',axis=1)\n",
    "y = Bank_combined[[\"Loan_Status\"]]\n",
    "\n",
    "x_train, x_test, y_train, y_test = train_test_split(X, y, test_size=0.2,random_state =1)"
   ]
  },
  {
   "cell_type": "code",
   "execution_count": 45,
   "id": "aefd860b",
   "metadata": {},
   "outputs": [
    {
     "name": "stdout",
     "output_type": "stream",
     "text": [
      "The number of samples into the Train data is 784.\n",
      "The number of samples into the Test data is 197.\n"
     ]
    }
   ],
   "source": [
    "print('The number of samples into the Train data is {}.'.format(x_train.shape[0]))\n",
    "print('The number of samples into the Test data is {}.'.format(x_test.shape[0]))"
   ]
  },
  {
   "cell_type": "markdown",
   "id": "a11e7b61",
   "metadata": {},
   "source": [
    "# 3) Model 2 -GBM (Gradient boosting) "
   ]
  },
  {
   "cell_type": "markdown",
   "id": "c1265fe3",
   "metadata": {},
   "source": [
    "## Model 2 -GBM (Gradient boosting) "
   ]
  },
  {
   "cell_type": "code",
   "execution_count": null,
   "id": "4b7e4bf8",
   "metadata": {},
   "outputs": [],
   "source": [
    "abc=pd.DataFrame(gscv_GBM.cv_results_) abc=abc.loc[:,['param_learning_rate','mean_test_score']] abc.head()"
   ]
  },
  {
   "cell_type": "code",
   "execution_count": 53,
   "id": "83d8acc4",
   "metadata": {},
   "outputs": [],
   "source": [
    "# Define Model parameters to tune\n",
    "# n_estimators=The number of boosting stages to perform.\n",
    "model_parameters = {'n_estimators': [10, 50], # number of tress\n",
    "                    'max_depth':    [4, 5],      # maximum branches in tree\n",
    "                    'learning_rate':[0.8, 0.6],\n",
    "                    'min_samples_leaf':[100,200,270], ## child\n",
    "                    'min_samples_split':[50,70,80]} #parent "
   ]
  },
  {
   "cell_type": "code",
   "execution_count": 54,
   "id": "d779a8d4",
   "metadata": {},
   "outputs": [
    {
     "name": "stdout",
     "output_type": "stream",
     "text": [
      "Fitting 5 folds for each of 72 candidates, totalling 360 fits\n"
     ]
    },
    {
     "data": {
      "text/plain": [
       "GridSearchCV(cv=5,\n",
       "             estimator=GradientBoostingClassifier(criterion='mse',\n",
       "                                                  random_state=10),\n",
       "             n_jobs=-1,\n",
       "             param_grid={'learning_rate': [0.8, 0.6], 'max_depth': [4, 5],\n",
       "                         'min_samples_leaf': [100, 200, 270],\n",
       "                         'min_samples_split': [50, 70, 80],\n",
       "                         'n_estimators': [10, 50]},\n",
       "             scoring='accuracy', verbose=1)"
      ]
     },
     "execution_count": 54,
     "metadata": {},
     "output_type": "execute_result"
    }
   ],
   "source": [
    "\n",
    "# Gridsearch the parameters to find the best parameters.\n",
    "model = GradientBoostingClassifier(random_state=10,loss=\"deviance\",criterion=\"mse\")\n",
    "## random_state  -- The random number seed so that same random numbers are generated every time.\n",
    "\n",
    "gscv_GBM = GridSearchCV(estimator=model, \n",
    "                    param_grid=model_parameters,  # comibnation = 4\n",
    "                    cv=5,  # K-fold = 10 or 5  \n",
    "                    verbose=1, ### message how many task done at backend\n",
    "                    n_jobs=-1, ## parallel processing used entire processor\n",
    "                    scoring='accuracy') ## accuracy evaluation\n",
    "\n",
    "gscv_GBM.fit(x_train, y_train)"
   ]
  },
  {
   "cell_type": "code",
   "execution_count": 55,
   "id": "c43b46e9",
   "metadata": {},
   "outputs": [
    {
     "name": "stdout",
     "output_type": "stream",
     "text": [
      "The best parameter are - {'learning_rate': 0.6, 'max_depth': 4, 'min_samples_leaf': 100, 'min_samples_split': 50, 'n_estimators': 10}\n"
     ]
    }
   ],
   "source": [
    "print('The best parameter are -', gscv_GBM.best_params_)"
   ]
  },
  {
   "cell_type": "code",
   "execution_count": 56,
   "id": "973a9b6f",
   "metadata": {},
   "outputs": [
    {
     "data": {
      "text/plain": [
       "GradientBoostingClassifier(learning_rate=0.6, max_depth=4, min_samples_leaf=100,\n",
       "                           min_samples_split=50, n_estimators=10)"
      ]
     },
     "execution_count": 56,
     "metadata": {},
     "output_type": "execute_result"
    }
   ],
   "source": [
    "# Re-fit the model with the best parameters\n",
    "final_mod_GBM = GradientBoostingClassifier(**gscv_GBM.best_params_)\n",
    "final_mod_GBM.fit(x_train, y_train)"
   ]
  },
  {
   "cell_type": "code",
   "execution_count": 57,
   "id": "3b8c62cc",
   "metadata": {},
   "outputs": [],
   "source": [
    "# Prediction\n",
    "train_pred = final_mod_GBM.predict(x_train)\n",
    "test_pred = final_mod_GBM.predict(x_test)"
   ]
  },
  {
   "cell_type": "code",
   "execution_count": 58,
   "id": "ddcaa830",
   "metadata": {},
   "outputs": [
    {
     "data": {
      "text/plain": [
       "array([0, 0, 0, 0, 0, 0, 0, 0, 0, 1, 1, 1, 1, 0, 0, 0, 1, 0, 0, 1, 0, 1,\n",
       "       0, 0, 0, 0, 1, 1, 0, 1, 1, 0, 0, 0, 0, 0, 1, 0, 0, 1, 0, 0, 0, 0,\n",
       "       1, 0, 0, 1, 0, 0, 0, 1, 0, 0, 0, 0, 1, 0, 0, 1, 1, 0, 0, 0, 0, 0,\n",
       "       0, 0, 1, 0, 1, 0, 0, 0, 0, 0, 0, 0, 0, 0, 1, 0, 0, 0, 0, 0, 0, 0,\n",
       "       0, 0, 0, 0, 0, 0, 0, 0, 0, 0, 1, 1, 0, 0, 1, 0, 0, 0, 0, 1, 1, 0,\n",
       "       0, 0, 1, 0, 0, 1, 0, 0, 0, 1, 0, 0, 1, 0, 0, 1, 0, 0, 0, 0, 0, 1,\n",
       "       0, 1, 1, 0, 1, 0, 1, 1, 0, 0, 0, 1, 0, 0, 0, 0, 1, 0, 0, 0, 0, 0,\n",
       "       0, 0, 0, 0, 0, 1, 0, 1, 0, 0, 1, 0, 0, 0, 0, 0, 1, 0, 0, 0, 0, 0,\n",
       "       0, 0, 0, 0, 0, 1, 0, 0, 0, 0, 0, 0, 1, 0, 0, 0, 1, 0, 0, 0, 0, 1,\n",
       "       0, 0, 0, 0, 0, 0, 0, 0, 1, 0, 0, 0, 1, 0, 0, 0, 0, 0, 0, 0, 0, 0,\n",
       "       0, 0, 0, 0, 0, 0, 0, 0, 0, 0, 0, 0, 1, 0, 0, 1, 0, 0, 0, 1, 0, 1,\n",
       "       0, 0, 1, 0, 0, 0, 1, 0, 0, 0, 0, 1, 0, 0, 0, 1, 0, 0, 0, 0, 0, 0,\n",
       "       1, 1, 0, 0, 0, 1, 0, 0, 0, 0, 1, 1, 0, 0, 0, 0, 0, 1, 0, 0, 1, 0,\n",
       "       1, 0, 0, 1, 1, 1, 0, 0, 1, 0, 1, 0, 0, 0, 0, 0, 0, 0, 0, 0, 0, 1,\n",
       "       0, 1, 0, 1, 0, 0, 1, 0, 1, 0, 0, 0, 0, 0, 0, 0, 0, 0, 0, 1, 0, 0,\n",
       "       0, 0, 0, 0, 1, 1, 0, 1, 0, 1, 0, 0, 0, 0, 1, 0, 0, 1, 0, 0, 0, 0,\n",
       "       0, 0, 1, 0, 0, 0, 0, 0, 1, 0, 0, 0, 0, 0, 0, 1, 0, 0, 1, 0, 1, 0,\n",
       "       0, 0, 0, 0, 0, 0, 0, 1, 0, 0, 0, 0, 1, 1, 0, 0, 0, 0, 0, 0, 0, 0,\n",
       "       0, 0, 0, 1, 0, 0, 0, 1, 1, 0, 0, 1, 0, 0, 0, 0, 0, 0, 1, 0, 0, 0,\n",
       "       1, 0, 1, 1, 0, 0, 0, 0, 0, 0, 0, 0, 0, 0, 0, 0, 0, 0, 0, 0, 1, 1,\n",
       "       0, 0, 0, 0, 0, 0, 1, 0, 1, 0, 0, 0, 1, 1, 0, 1, 0, 0, 0, 0, 1, 0,\n",
       "       0, 0, 1, 0, 0, 0, 0, 0, 0, 1, 0, 0, 0, 0, 1, 0, 0, 0, 0, 0, 1, 0,\n",
       "       0, 1, 0, 0, 0, 0, 1, 0, 1, 0, 0, 0, 0, 0, 0, 0, 0, 0, 0, 0, 0, 0,\n",
       "       0, 0, 1, 0, 0, 0, 0, 0, 1, 0, 0, 0, 0, 0, 0, 0, 0, 0, 1, 1, 0, 0,\n",
       "       0, 0, 0, 1, 1, 0, 0, 1, 0, 1, 0, 0, 0, 0, 0, 0, 0, 0, 0, 0, 0, 0,\n",
       "       0, 0, 1, 1, 0, 0, 0, 1, 0, 1, 0, 1, 0, 0, 0, 0, 0, 0, 0, 0, 0, 0,\n",
       "       0, 0, 0, 1, 1, 0, 0, 0, 0, 1, 0, 1, 0, 0, 1, 0, 0, 0, 0, 0, 0, 0,\n",
       "       0, 0, 0, 0, 0, 0, 0, 0, 0, 0, 0, 0, 0, 0, 0, 0, 1, 0, 1, 1, 0, 0,\n",
       "       0, 0, 1, 0, 0, 1, 0, 0, 1, 0, 1, 1, 0, 1, 0, 0, 0, 0, 0, 0, 0, 0,\n",
       "       1, 0, 0, 0, 0, 1, 0, 0, 1, 0, 1, 1, 1, 1, 1, 0, 0, 0, 1, 0, 0, 0,\n",
       "       0, 1, 0, 1, 1, 0, 0, 0, 0, 0, 0, 0, 0, 0, 1, 0, 0, 0, 0, 0, 0, 0,\n",
       "       0, 0, 1, 0, 0, 0, 0, 0, 0, 0, 1, 0, 0, 0, 0, 0, 0, 1, 0, 0, 0, 1,\n",
       "       1, 1, 0, 0, 1, 0, 1, 0, 0, 1, 0, 0, 0, 0, 0, 0, 0, 0, 0, 0, 0, 0,\n",
       "       1, 0, 0, 0, 0, 1, 1, 0, 0, 0, 1, 0, 0, 1, 0, 0, 0, 0, 1, 0, 0, 1,\n",
       "       1, 0, 1, 0, 0, 0, 0, 0, 1, 0, 0, 0, 1, 0, 0, 1, 1, 0, 0, 0, 0, 0,\n",
       "       0, 1, 1, 0, 1, 0, 0, 1, 0, 1, 0, 0, 0, 0])"
      ]
     },
     "execution_count": 58,
     "metadata": {},
     "output_type": "execute_result"
    }
   ],
   "source": [
    "train_pred"
   ]
  },
  {
   "cell_type": "markdown",
   "id": "ce1b5b73",
   "metadata": {},
   "source": [
    "## Confusion Matrix Train Data (2 Model)"
   ]
  },
  {
   "cell_type": "code",
   "execution_count": 59,
   "id": "c2b7254d",
   "metadata": {},
   "outputs": [
    {
     "name": "stdout",
     "output_type": "stream",
     "text": [
      "Classification report for train data is : \n",
      "               precision    recall  f1-score   support\n",
      "\n",
      "           0       0.92      0.98      0.95       570\n",
      "           1       0.93      0.79      0.85       214\n",
      "\n",
      "    accuracy                           0.92       784\n",
      "   macro avg       0.93      0.88      0.90       784\n",
      "weighted avg       0.92      0.92      0.92       784\n",
      "\n"
     ]
    }
   ],
   "source": [
    "print('Classification report for train data is : \\n',\n",
    "      classification_report(y_train, train_pred))"
   ]
  },
  {
   "cell_type": "markdown",
   "id": "e6314c7d",
   "metadata": {},
   "source": [
    "## Confusion Matrix Test Data (2 Model) "
   ]
  },
  {
   "cell_type": "code",
   "execution_count": 60,
   "id": "095648c5",
   "metadata": {},
   "outputs": [
    {
     "name": "stdout",
     "output_type": "stream",
     "text": [
      "Classification report for test data is : \n",
      "               precision    recall  f1-score   support\n",
      "\n",
      "           0       0.92      0.95      0.94       142\n",
      "           1       0.86      0.80      0.83        55\n",
      "\n",
      "    accuracy                           0.91       197\n",
      "   macro avg       0.89      0.88      0.88       197\n",
      "weighted avg       0.91      0.91      0.91       197\n",
      "\n"
     ]
    }
   ],
   "source": [
    "print('Classification report for test data is : \\n',\n",
    "      classification_report(y_test, test_pred))"
   ]
  },
  {
   "cell_type": "markdown",
   "id": "cfc0beaa",
   "metadata": {},
   "source": [
    "# Importance Feature "
   ]
  },
  {
   "cell_type": "code",
   "execution_count": 61,
   "id": "d494467c",
   "metadata": {
    "scrolled": true
   },
   "outputs": [
    {
     "data": {
      "image/png": "[encoded data removed]",
      "text/plain": [
       "<Figure size 576x360 with 1 Axes>"
      ]
     },
     "metadata": {
      "needs_background": "light"
     },
     "output_type": "display_data"
    }
   ],
   "source": [
    "# Plot features importances\n",
    "imp = pd.Series(data=final_mod_GBM.feature_importances_, index=X.columns).sort_values(ascending=False)\n",
    "plt.figure(figsize=(8,5))\n",
    "plt.title(\"Feature importance\")\n",
    "ax = sns.barplot(y=imp.head().index, x=imp.head().values, palette=\"Blues_r\", orient='h')\n"
   ]
  },
  {
   "cell_type": "markdown",
   "id": "c2e7bae2",
   "metadata": {},
   "source": [
    "# Gradiant Boosting Tree"
   ]
  },
  {
   "cell_type": "code",
   "execution_count": 62,
   "id": "0ba20c97",
   "metadata": {},
   "outputs": [
    {
     "data": {
      "image/png": "[encoded data removed]",
      "text/plain": [
       "<IPython.core.display.Image object>"
      ]
     },
     "execution_count": 62,
     "metadata": {},
     "output_type": "execute_result"
    }
   ],
   "source": [
    "from sklearn.tree import export_graphviz\n",
    "sub_tree = final_mod_GBM.estimators_[0, 0] #0 to 99  # Model ( Final_mod_GBM) = Give Tree\n",
    "churn=['Yes','No']\n",
    "feature_list = list(X.columns)\n",
    "\n",
    "# Visualization. Install graphviz in your system\n",
    "from pydotplus import graph_from_dot_data\n",
    "from IPython.display import Image\n",
    "dot_data = export_graphviz(sub_tree,\n",
    "    out_file=None,\n",
    "    class_names=churn,\n",
    "    feature_names = feature_list, \n",
    "    filled=True, \n",
    "    rounded=True,\n",
    "    special_characters=True,\n",
    "    impurity=False)\n",
    "\n",
    "graph = graph_from_dot_data(dot_data)\n",
    "Image(graph.create_png())\n"
   ]
  },
  {
   "cell_type": "markdown",
   "id": "b263ea99",
   "metadata": {},
   "source": [
    "# Business Submission"
   ]
  }
 ],
 "metadata": {
  "kernelspec": {
   "display_name": "Python 3 (ipykernel)",
   "language": "python",
   "name": "python3"
  },
  "language_info": {
   "codemirror_mode": {
    "name": "ipython",
    "version": 3
   },
   "file_extension": ".py",
   "mimetype": "text/x-python",
   "name": "python",
   "nbconvert_exporter": "python",
   "pygments_lexer": "ipython3",
   "version": "3.9.12"
  }
 },
 "nbformat": 4,
 "nbformat_minor": 5
}
